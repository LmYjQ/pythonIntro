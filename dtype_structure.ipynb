{
 "cells": [
  {
   "cell_type": "markdown",
   "metadata": {},
   "source": [
    "## 一、数据类型\n",
    "为什么要有不同的数据类型？<br>\n",
    "数据不是孤立存在的<br>\n",
    "数据之间需要做**运算**，做**比较**<br>\n",
    "不同的数据类型有不同的**使用规范**，有助于减少异常情况的发生<br>"
   ]
  },
  {
   "cell_type": "markdown",
   "metadata": {},
   "source": [
    "**场景1：披萨店的14寸披萨卖光了，想给我们两块9寸的，请问应该答应吗？**\n",
    "### 1.1 数据定义和运算"
   ]
  },
  {
   "cell_type": "code",
   "execution_count": 1,
   "metadata": {},
   "outputs": [
    {
     "name": "stdout",
     "output_type": "stream",
     "text": [
      "两块9寸披萨的面积为127.23450030000001，一块14寸披萨的面积为153.9380374\n"
     ]
    }
   ],
   "source": [
    "Pi = 3.1415926\n",
    "r1 = 9\n",
    "r2 = 14\n",
    "s1 = 2*Pi*((r1/2)**2)\n",
    "s2 = Pi*((r2/2)**2)\n",
    "msg1 = '两块9寸披萨的面积为'\n",
    "msg2 = '一块14寸披萨的面积'\n",
    "print('两块9寸披萨的面积为{}，一块14寸披萨的面积为{}'.format(s1,s2))"
   ]
  },
  {
   "cell_type": "markdown",
   "metadata": {},
   "source": [
    "**我们应该答应吗？**"
   ]
  },
  {
   "cell_type": "code",
   "execution_count": 2,
   "metadata": {},
   "outputs": [
    {
     "name": "stdout",
     "output_type": "stream",
     "text": [
      "False\n"
     ]
    }
   ],
   "source": [
    "answer = s1-s2>0\n",
    "print(answer)"
   ]
  },
  {
   "cell_type": "code",
   "execution_count": 3,
   "metadata": {
    "scrolled": false
   },
   "outputs": [
    {
     "name": "stdout",
     "output_type": "stream",
     "text": [
      "消息的数据类型为<class 'str'>，披萨直径的数据类型为<class 'int'>,披萨面积的数据类型为<class 'float'>,回答的数据类型为<class 'bool'>\n"
     ]
    }
   ],
   "source": [
    "print('消息的数据类型为{}，披萨直径的数据类型为{},披萨面积的数据类型为{},回答的数据类型为{}'.\n",
    "      format(type(msg1),type(r1),type(s2),type(answer)))"
   ]
  },
  {
   "cell_type": "markdown",
   "metadata": {},
   "source": [
    "### 1.2 常见的数据类型\n",
    "字符串，整数，浮点数，布尔数"
   ]
  },
  {
   "cell_type": "code",
   "execution_count": 4,
   "metadata": {},
   "outputs": [
    {
     "ename": "TypeError",
     "evalue": "must be str, not float",
     "output_type": "error",
     "traceback": [
      "\u001b[0;31m---------------------------------------------------------------------------\u001b[0m",
      "\u001b[0;31mTypeError\u001b[0m                                 Traceback (most recent call last)",
      "\u001b[0;32m<ipython-input-4-39ce313bace9>\u001b[0m in \u001b[0;36m<module>\u001b[0;34m()\u001b[0m\n\u001b[1;32m      1\u001b[0m \u001b[0;31m# 数据类型不匹配\u001b[0m\u001b[0;34m\u001b[0m\u001b[0;34m\u001b[0m\u001b[0m\n\u001b[0;32m----> 2\u001b[0;31m \u001b[0mmsg\u001b[0m \u001b[0;34m=\u001b[0m \u001b[0mmsg1\u001b[0m\u001b[0;34m+\u001b[0m\u001b[0ms1\u001b[0m\u001b[0;34m+\u001b[0m\u001b[0mmsg2\u001b[0m\u001b[0;34m+\u001b[0m\u001b[0ms2\u001b[0m\u001b[0;34m\u001b[0m\u001b[0m\n\u001b[0m",
      "\u001b[0;31mTypeError\u001b[0m: must be str, not float"
     ]
    }
   ],
   "source": [
    "# 数据类型不匹配\n",
    "msg = msg1+s1+msg2+s2"
   ]
  },
  {
   "cell_type": "markdown",
   "metadata": {},
   "source": [
    "### 1.3 数据类型转换和异常"
   ]
  },
  {
   "cell_type": "code",
   "execution_count": 5,
   "metadata": {},
   "outputs": [
    {
     "data": {
      "text/plain": [
       "9.0"
      ]
     },
     "execution_count": 5,
     "metadata": {},
     "output_type": "execute_result"
    }
   ],
   "source": [
    "# 整数转浮点数\n",
    "float(r1)"
   ]
  },
  {
   "cell_type": "code",
   "execution_count": 6,
   "metadata": {},
   "outputs": [
    {
     "data": {
      "text/plain": [
       "3"
      ]
     },
     "execution_count": 6,
     "metadata": {},
     "output_type": "execute_result"
    }
   ],
   "source": [
    "# 浮点数转整数，精度损失\n",
    "int(Pi)"
   ]
  },
  {
   "cell_type": "code",
   "execution_count": 7,
   "metadata": {},
   "outputs": [
    {
     "ename": "TypeError",
     "evalue": "must be str, not float",
     "output_type": "error",
     "traceback": [
      "\u001b[0;31m---------------------------------------------------------------------------\u001b[0m",
      "\u001b[0;31mTypeError\u001b[0m                                 Traceback (most recent call last)",
      "\u001b[0;32m<ipython-input-7-39ce313bace9>\u001b[0m in \u001b[0;36m<module>\u001b[0;34m()\u001b[0m\n\u001b[1;32m      1\u001b[0m \u001b[0;31m# 数据类型不匹配\u001b[0m\u001b[0;34m\u001b[0m\u001b[0;34m\u001b[0m\u001b[0m\n\u001b[0;32m----> 2\u001b[0;31m \u001b[0mmsg\u001b[0m \u001b[0;34m=\u001b[0m \u001b[0mmsg1\u001b[0m\u001b[0;34m+\u001b[0m\u001b[0ms1\u001b[0m\u001b[0;34m+\u001b[0m\u001b[0mmsg2\u001b[0m\u001b[0;34m+\u001b[0m\u001b[0ms2\u001b[0m\u001b[0;34m\u001b[0m\u001b[0m\n\u001b[0m",
      "\u001b[0;31mTypeError\u001b[0m: must be str, not float"
     ]
    }
   ],
   "source": [
    "# 数据类型不匹配\n",
    "msg = msg1+s1+msg2+s2"
   ]
  },
  {
   "cell_type": "code",
   "execution_count": 8,
   "metadata": {},
   "outputs": [
    {
     "name": "stdout",
     "output_type": "stream",
     "text": [
      "两块9寸披萨的面积为127.23450030000001一块14寸披萨的面积153.9380374\n"
     ]
    }
   ],
   "source": [
    "# 字符串加法\n",
    "msg = msg1+str(s1)+msg2+str(s2)\n",
    "print(msg)"
   ]
  },
  {
   "cell_type": "markdown",
   "metadata": {},
   "source": [
    "## 二、数据结构\n",
    "为什么要有不同的数据结构？<br>\n",
    "数据结构体现了数据之间的**联系**，不同的联系产生了不同的**数据结构**，不同的数据结构需要不同的**使用规范**"
   ]
  },
  {
   "cell_type": "markdown",
   "metadata": {},
   "source": [
    "**场景二：数据结构的使用**<br>\n",
    "继续上面的故事，我们开始正式点餐了。拿到一份菜单是这样的：<br>\n",
    "<br>\n",
    "夏威夷披萨 60元<br>\n",
    "牛肉披萨 80元<br>\n",
    "海鲜披萨 90元<br>\n",
    "意式肉酱面 35元<br>\n",
    "薯条 20元<br>\n",
    "鸡翅（4块）35元<br>\n",
    "柠檬红茶 19元<br>\n",
    "奶茶 22元<br>"
   ]
  },
  {
   "cell_type": "markdown",
   "metadata": {},
   "source": [
    "### 2.1 定义list和dict<br>\n",
    "我们把菜单定义为**字典(dict)**结构,字典的核心是**映射关系**"
   ]
  },
  {
   "cell_type": "code",
   "execution_count": 9,
   "metadata": {},
   "outputs": [
    {
     "name": "stdout",
     "output_type": "stream",
     "text": [
      "<class 'dict'> {'夏威夷披萨': 60, '牛肉披萨': 80, '海鲜披萨': 90, '意式肉酱面': 35, '薯条': 20, '鸡翅（4块）': 35, '柠檬红茶': 19, '奶茶': 22}\n"
     ]
    }
   ],
   "source": [
    "menu = {'夏威夷披萨':60,'牛肉披萨':80,'海鲜披萨':90,'意式肉酱面':35,'薯条':20,'鸡翅（4块）':35,'柠檬红茶':19,'奶茶':22}\n",
    "print(type(menu),menu)"
   ]
  },
  {
   "cell_type": "markdown",
   "metadata": {},
   "source": [
    "我们要点的菜定义为**列表(list)**结构，列表是**有序的**元素集合"
   ]
  },
  {
   "cell_type": "code",
   "execution_count": 10,
   "metadata": {},
   "outputs": [
    {
     "name": "stdout",
     "output_type": "stream",
     "text": [
      "<class 'list'> ['牛肉披萨', '意式肉酱面', '柠檬红茶', '鸡翅（4块）']\n"
     ]
    }
   ],
   "source": [
    "order = []\n",
    "order.append('牛肉披萨')\n",
    "order.append('意式肉酱面')\n",
    "order.append('柠檬红茶')\n",
    "order.append('鸡翅（4块）')\n",
    "print(type(order),order)"
   ]
  },
  {
   "cell_type": "markdown",
   "metadata": {},
   "source": [
    "### 2.2 操作list和dict\n",
    "点多了，去掉一个菜"
   ]
  },
  {
   "cell_type": "code",
   "execution_count": 11,
   "metadata": {},
   "outputs": [
    {
     "name": "stdout",
     "output_type": "stream",
     "text": [
      "['牛肉披萨', '柠檬红茶', '鸡翅（4块）']\n"
     ]
    }
   ],
   "source": [
    "order.remove('意式肉酱面')\n",
    "print(order)"
   ]
  },
  {
   "cell_type": "markdown",
   "metadata": {},
   "source": [
    "看看某一个菜有没有点"
   ]
  },
  {
   "cell_type": "code",
   "execution_count": 12,
   "metadata": {},
   "outputs": [
    {
     "data": {
      "text/plain": [
       "False"
      ]
     },
     "execution_count": 12,
     "metadata": {},
     "output_type": "execute_result"
    }
   ],
   "source": [
    "'海鲜披萨' in order"
   ]
  },
  {
   "cell_type": "markdown",
   "metadata": {},
   "source": [
    "总共要付多少钱？"
   ]
  },
  {
   "cell_type": "code",
   "execution_count": 13,
   "metadata": {},
   "outputs": [
    {
     "name": "stdout",
     "output_type": "stream",
     "text": [
      "134\n"
     ]
    }
   ],
   "source": [
    "order_price = 0\n",
    "order_price += menu.get(order[0])\n",
    "order_price += menu.get(order[1])\n",
    "order_price += menu.get(order[2])\n",
    "print(order_price)"
   ]
  },
  {
   "cell_type": "markdown",
   "metadata": {},
   "source": [
    "### 课后作业\n",
    "python数据类型与数据结构应用<br>\n",
    "1. 请自己设想一个场景，用尽量多种数据结构和数据类型讲一个故事<br>\n",
    "2. 尝试数据结构更多的交互方式（列表的其他添加/删除方式等）"
   ]
  },
  {
   "cell_type": "code",
   "execution_count": 14,
   "metadata": {},
   "outputs": [
    {
     "data": {
      "text/plain": [
       "['牛肉披萨', '柠檬红茶', '鸡翅（4块）']"
      ]
     },
     "execution_count": 14,
     "metadata": {},
     "output_type": "execute_result"
    }
   ],
   "source": [
    "order = ['牛肉披萨', '柠檬红茶', '鸡翅（4块）']\n",
    "order"
   ]
  },
  {
   "cell_type": "markdown",
   "metadata": {},
   "source": [
    "## 三、循环，判断\n",
    "为什么需要循环？重复，简化逻辑<br>\n",
    "为什么需要判断？区别处理不同情况"
   ]
  },
  {
   "cell_type": "markdown",
   "metadata": {},
   "source": [
    "### 3.1 循环的使用\n",
    "重新算一下账单总价格"
   ]
  },
  {
   "cell_type": "code",
   "execution_count": 15,
   "metadata": {},
   "outputs": [
    {
     "name": "stdout",
     "output_type": "stream",
     "text": [
      "134\n"
     ]
    }
   ],
   "source": [
    "order_price = 0\n",
    "for i in range(len(order)):\n",
    "    order_price += menu.get(order[i])\n",
    "print(order_price)"
   ]
  },
  {
   "cell_type": "markdown",
   "metadata": {},
   "source": [
    "优点：减少重复，灵活(order里随便有几个东西都可以)"
   ]
  },
  {
   "cell_type": "markdown",
   "metadata": {},
   "source": [
    "### 3.2 判断的使用\n",
    "加一个打折怎么办？比如：满100元减20,满150元减30元"
   ]
  },
  {
   "cell_type": "code",
   "execution_count": 16,
   "metadata": {},
   "outputs": [
    {
     "name": "stdout",
     "output_type": "stream",
     "text": [
      "恭喜您，满100优惠20元\n",
      "114\n"
     ]
    }
   ],
   "source": [
    "order_price = 0\n",
    "for i in range(len(order)):\n",
    "    order_price += menu.get(order[i])\n",
    "if order_price>=100 and order_price<150:\n",
    "    print('恭喜您，满100优惠20元')\n",
    "    order_price -= 20\n",
    "elif order_price>=150:\n",
    "    print('恭喜您，满150优惠30元')\n",
    "    order_price -= 30    \n",
    "else:\n",
    "    print('很抱歉，无优惠')\n",
    "print(order_price)"
   ]
  },
  {
   "cell_type": "markdown",
   "metadata": {},
   "source": [
    "**去掉一个菜看看还有优惠吗？**"
   ]
  },
  {
   "cell_type": "code",
   "execution_count": null,
   "metadata": {},
   "outputs": [],
   "source": [
    "order.pop()\n",
    "print(order)"
   ]
  },
  {
   "cell_type": "markdown",
   "metadata": {},
   "source": [
    "**买几份鸡翅可以有优惠？**"
   ]
  },
  {
   "cell_type": "code",
   "execution_count": 17,
   "metadata": {},
   "outputs": [
    {
     "name": "stdout",
     "output_type": "stream",
     "text": [
      "0份鸡翅0元，无优惠\n",
      "1份鸡翅35元，无优惠\n",
      "2份鸡翅70元，无优惠\n",
      "3份鸡翅105元，优惠20元，只需85元！\n"
     ]
    }
   ],
   "source": [
    "order_price = 0\n",
    "n = 0\n",
    "while order_price<100:\n",
    "    print('{}份鸡翅{}元，无优惠'.format(n,order_price))\n",
    "    n+=1\n",
    "    order_price+=35\n",
    "print('{}份鸡翅{}元，优惠20元，只需{}元！'.format(n,order_price,order_price-20))"
   ]
  },
  {
   "cell_type": "markdown",
   "metadata": {},
   "source": [
    "### 3.3 列表生成式\n",
    "**把每个菜名变成价格?**"
   ]
  },
  {
   "cell_type": "code",
   "execution_count": 18,
   "metadata": {},
   "outputs": [
    {
     "data": {
      "text/plain": [
       "['牛肉披萨', '柠檬红茶', '鸡翅（4块）']"
      ]
     },
     "execution_count": 18,
     "metadata": {},
     "output_type": "execute_result"
    }
   ],
   "source": [
    "order"
   ]
  },
  {
   "cell_type": "code",
   "execution_count": 19,
   "metadata": {},
   "outputs": [
    {
     "data": {
      "text/plain": [
       "[80, 19, 35]"
      ]
     },
     "execution_count": 19,
     "metadata": {},
     "output_type": "execute_result"
    }
   ],
   "source": [
    "[menu.get(i) for i in order]"
   ]
  },
  {
   "cell_type": "code",
   "execution_count": null,
   "metadata": {},
   "outputs": [],
   "source": []
  }
 ],
 "metadata": {
  "kernelspec": {
   "display_name": "Python 3",
   "language": "python",
   "name": "python3"
  },
  "language_info": {
   "codemirror_mode": {
    "name": "ipython",
    "version": 3
   },
   "file_extension": ".py",
   "mimetype": "text/x-python",
   "name": "python",
   "nbconvert_exporter": "python",
   "pygments_lexer": "ipython3",
   "version": "3.6.4"
  }
 },
 "nbformat": 4,
 "nbformat_minor": 2
}
