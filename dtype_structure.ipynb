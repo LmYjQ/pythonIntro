{
 "cells": [
  {
   "cell_type": "markdown",
   "metadata": {},
   "source": [
    "## 一、数据类型\n",
    "**为什么**要有不同的数据类型？<br>\n",
    "数据不是孤立存在的<br>\n",
    "数据之间需要做**运算**，做**比较**<br>\n",
    "不同的数据类型有不同的**使用规范**，有助于减少异常情况的发生<br>"
   ]
  },
  {
   "cell_type": "markdown",
   "metadata": {},
   "source": [
    "### 1. 数字\n",
    "披萨店的14寸披萨卖光了，想给我们两块9寸的，请问应该答应吗？"
   ]
  },
  {
   "cell_type": "code",
   "execution_count": 15,
   "metadata": {},
   "outputs": [
    {
     "name": "stdout",
     "output_type": "stream",
     "text": [
      "两块9寸披萨的面积为127.23450030000001，一块14寸披萨的面积为153.9380374\n"
     ]
    }
   ],
   "source": [
    "Pi = 3.1415926\n",
    "r1 = 9/2\n",
    "r2 = 14/2\n",
    "s1 = 2*Pi*(r1**2)\n",
    "s2 = Pi*(r2**2)\n",
    "print('两块9寸披萨的面积为{}，一块14寸披萨的面积为{}'.format(s1,s2))"
   ]
  },
  {
   "cell_type": "code",
   "execution_count": 14,
   "metadata": {},
   "outputs": [
    {
     "name": "stdout",
     "output_type": "stream",
     "text": [
      "披萨直径的数据类型为<class 'int'>，披萨面积的数据类型为<class 'float'>\n"
     ]
    }
   ],
   "source": [
    "print('披萨直径的数据类型为{}，披萨面积的数据类型为{}'.format(type(r1),type(s1)))"
   ]
  },
  {
   "cell_type": "markdown",
   "metadata": {},
   "source": [
    "### 2. 字符\n",
    "字符串 string"
   ]
  },
  {
   "cell_type": "code",
   "execution_count": null,
   "metadata": {},
   "outputs": [],
   "source": []
  },
  {
   "cell_type": "markdown",
   "metadata": {},
   "source": [
    "### 3. 逻辑\n",
    "布尔型 boolean"
   ]
  },
  {
   "cell_type": "code",
   "execution_count": null,
   "metadata": {},
   "outputs": [],
   "source": []
  }
 ],
 "metadata": {
  "kernelspec": {
   "display_name": "Python 3",
   "language": "python",
   "name": "python3"
  },
  "language_info": {
   "codemirror_mode": {
    "name": "ipython",
    "version": 3
   },
   "file_extension": ".py",
   "mimetype": "text/x-python",
   "name": "python",
   "nbconvert_exporter": "python",
   "pygments_lexer": "ipython3",
   "version": "3.6.4"
  }
 },
 "nbformat": 4,
 "nbformat_minor": 2
}
