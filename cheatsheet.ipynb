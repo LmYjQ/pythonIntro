{
 "cells": [
  {
   "cell_type": "markdown",
   "metadata": {},
   "source": [
    "### 字典排序"
   ]
  },
  {
   "cell_type": "code",
   "execution_count": null,
   "metadata": {},
   "outputs": [],
   "source": [
    "# 按value\n",
    "s=sorted(d.items(),key=lambda x:x[1])\n",
    "s=sorted(d.items(),key=lambda x:x[0])"
   ]
  },
  {
   "cell_type": "markdown",
   "metadata": {},
   "source": [
    "### float数组编码解码"
   ]
  },
  {
   "cell_type": "code",
   "execution_count": 1,
   "metadata": {},
   "outputs": [],
   "source": [
    "import base64\n",
    "import struct\n",
    "# > 控制大小端\n",
    "def decode_vec(s):\n",
    "    b = bytes(s, encoding = \"utf8\")\n",
    "    buf = base64.b64decode(b)\n",
    "    v = struct.unpack('>192f', buf) # 192 float数组长度\n",
    "    return v\n",
    "\n",
    "def encode_vec(floatlist):\n",
    "    buf = struct.pack('>%sf' % len(floatlist), *floatlist)\n",
    "    b = base64.b64encode(buf)\n",
    "    s = str(b, encoding = \"utf-8\")\n",
    "    return s"
   ]
  },
  {
   "cell_type": "markdown",
   "metadata": {},
   "source": [
    "### 字节字符串转换"
   ]
  },
  {
   "cell_type": "code",
   "execution_count": null,
   "metadata": {},
   "outputs": [],
   "source": [
    "bytes(s, encoding = \"utf8\")  \n",
    "  \n",
    " # bytes to str  \n",
    "str(b, encoding = \"utf-8\")  "
   ]
  }
 ],
 "metadata": {
  "kernelspec": {
   "display_name": "Python 3",
   "language": "python",
   "name": "python3"
  },
  "language_info": {
   "codemirror_mode": {
    "name": "ipython",
    "version": 3
   },
   "file_extension": ".py",
   "mimetype": "text/x-python",
   "name": "python",
   "nbconvert_exporter": "python",
   "pygments_lexer": "ipython3",
   "version": "3.7.3"
  }
 },
 "nbformat": 4,
 "nbformat_minor": 2
}
