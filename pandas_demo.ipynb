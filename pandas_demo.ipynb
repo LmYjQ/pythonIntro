{
 "cells": [
  {
   "cell_type": "code",
   "execution_count": 6,
   "metadata": {},
   "outputs": [],
   "source": [
    "import pandas as pd\n",
    "import numpy as np"
   ]
  },
  {
   "cell_type": "code",
   "execution_count": 2,
   "metadata": {},
   "outputs": [
    {
     "name": "stdout",
     "output_type": "stream",
     "text": [
      "2019-02-12 4 2\n"
     ]
    }
   ],
   "source": [
    "import datetime,os\n",
    "now = datetime.datetime.now()\n",
    "dt = now.strftime(\"%Y%m%d\")\n",
    "ymd = now.strftime(\"%Y-%m-%d\")\n",
    "hour_now = now.strftime(\"%H\")\n",
    "hour_from = str(int(hour_now)-10)\n",
    "hour_to = str(int(hour_now)-12)\n",
    "print(ymd,hour_from,hour_to)"
   ]
  },
  {
   "cell_type": "code",
   "execution_count": 4,
   "metadata": {},
   "outputs": [
    {
     "data": {
      "text/plain": [
       "'20181010'"
      ]
     },
     "execution_count": 4,
     "metadata": {},
     "output_type": "execute_result"
    }
   ],
   "source": [
    "datetime.datetime(2018,10,10).strftime(\"%Y%m%d\")"
   ]
  },
  {
   "cell_type": "code",
   "execution_count": 5,
   "metadata": {},
   "outputs": [
    {
     "data": {
      "text/plain": [
       "datetime.datetime(2018, 10, 11, 0, 0)"
      ]
     },
     "execution_count": 5,
     "metadata": {},
     "output_type": "execute_result"
    }
   ],
   "source": [
    "datetime.datetime(2018,10,10)+datetime.timedelta(days=1)"
   ]
  }, 
  {
   "cell_type": "code",
   "execution_count": null,
   "metadata": {},
   "outputs": [],
   "source": [
    "cnt_ret = {'d7': {'9': {'0': 6680, '1': 177, '2': 49, '3': 14, '4': 1, 'pos': 241, 'neg': 6680, 'pos_all': 2124, 'neg_all': 69579, 'pos_ratio': 0.11346516007532957, 'neg_ratio': 0.09600597881544719, 'IVi': 0.0029171736080209772}, '1': {'0': 6152, '2': 28, '1': 132, '3': 6, '4': 3, 'pos': 169, 'neg': 6152, 'pos_all': 2124, 'neg_all': 69579, 'pos_ratio': 0.0795668549905838, 'neg_ratio': 0.08841748228632203, 'IVi': 0.0009334942646128106}, '7': {'0': 5193, '2': 28, '1': 140, '3': 9, '4': 2, 'pos': 179, 'neg': 5193, 'pos_all': 2124, 'neg_all': 69579, 'pos_ratio': 0.08427495291902072, 'neg_ratio': 0.0746345880222481, 'IVi': 0.0011711178545475564}, '10': {'0': 5778, '1': 183, '2': 39, '3': 22, '4': 1, 'pos': 245, 'neg': 5778, 'pos_all': 2124, 'neg_all': 69579, 'pos_ratio': 0.11534839924670433, 'neg_ratio': 0.08304229724485836, 'IVi': 0.010616012029839089}, '8': {'0': 6520, '1': 154, '2': 32, '3': 4, '4': 4, 'pos': 194, 'neg': 6520, 'pos_all': 2124, 'neg_all': 69579, 'pos_ratio': 0.09133709981167608, 'neg_ratio': 0.09370643441268199, 'IVi': 6.067818896694055e-05}, '2': {'0': 5235, '1': 97, '2': 22, '3': 7, '4': 2, 'pos': 128, 'neg': 5235, 'pos_all': 2124, 'neg_all': 69579, 'pos_ratio': 0.060263653483992465, 'neg_ratio': 0.07523821842797396, 'IVi': 0.0033233076701710664}, '6': {'0': 6996, '1': 169, '2': 39, '3': 8, '4': 1, 'pos': 217, 'neg': 6996, 'pos_all': 2124, 'neg_all': 69579, 'pos_ratio': 0.10216572504708098, 'neg_ratio': 0.10054757901090847, 'IVi': 2.5834044023883006e-05}, '0': {'0': 14368, '1': 336, '2': 55, '3': 18, '4': 11, 'pos': 420, 'neg': 14368, 'pos_all': 2124, 'neg_all': 69579, 'pos_ratio': 0.1977401129943503, 'neg_ratio': 0.20649908736831515, 'IVi': 0.00037963483925614055}, '3': {'1': 93, '0': 4518, '2': 21, '3': 4, 'pos': 118, 'neg': 4518, 'pos_all': 2124, 'neg_all': 69579, 'pos_ratio': 0.05555555555555555, 'neg_ratio': 0.0649333850730824, 'IVi': 0.001462738639812172}, '5': {'0': 3484, '1': 61, '2': 22, '4': 2, '3': 3, 'pos': 88, 'neg': 3484, 'pos_all': 2124, 'neg_all': 69579, 'pos_ratio': 0.04143126177024482, 'neg_ratio': 0.050072579370212277, 'IVi': 0.0016369924475597307}, '4': {'0': 4655, '1': 99, '2': 14, '3': 10, '4': 2, 'pos': 125, 'neg': 4655, 'pos_all': 2124, 'neg_all': 69579, 'pos_ratio': 0.05885122410546139, 'neg_ratio': 0.0669023699679501, 'IVi': 0.0010323320773205726}},\n",
    "    'd8': {'4': {'0': 8225, '1': 194, '2': 43, '3': 9, '4': 3, 'pos': 249, 'neg': 8225, 'pos_all': 2124, 'neg_all': 69579, 'pos_ratio': 0.1172316384180791, 'neg_ratio': 0.11821095445464867, 'IVi': 8.14691529508821e-06}, '1': {'0': 14093, '1': 321, '2': 62, '3': 19, '4': 5, 'pos': 407, 'neg': 14093, 'pos_all': 2124, 'neg_all': 69579, 'pos_ratio': 0.1916195856873823, 'neg_ratio': 0.20254674542606246, 'IVi': 0.0006060051936610944}, '5': {'0': 9400, '1': 274, '2': 64, '3': 28, '4': 4, 'pos': 370, 'neg': 9400, 'pos_all': 2124, 'neg_all': 69579, 'pos_ratio': 0.17419962335216574, 'neg_ratio': 0.13509823366245563, 'IVi': 0.009939562767245471}, '3': {'0': 10654, '1': 243, '2': 66, '3': 11, '4': 4, 'pos': 324, 'neg': 10654, 'pos_all': 2124, 'neg_all': 69579, 'pos_ratio': 0.15254237288135594, 'neg_ratio': 0.1531209129191279, 'IVi': 2.1900502320511132e-06}, '0': {'0': 14368, '1': 336, '2': 55, '3': 18, '4': 11, 'pos': 420, 'neg': 14368, 'pos_all': 2124, 'neg_all': 69579, 'pos_ratio': 0.1977401129943503, 'neg_ratio': 0.20649908736831515, 'IVi': 0.00037963483925614055}, '2': {'0': 12839, '1': 273, '2': 59, '3': 20, '4': 2, 'pos': 354, 'neg': 12839, 'pos_all': 2124, 'neg_all': 69579, 'pos_ratio': 0.16666666666666666, 'neg_ratio': 0.18452406616939018, 'IVi': 0.0018175990717650057}}}\n",
    "df = pd.DataFrame.from_dict({(i,j): cnt_ret[i][j] \n",
    "                           for i in cnt_ret.keys() \n",
    "                           for j in cnt_ret[i].keys()},\n",
    "                       orient='index')\n",
    "df_detail= df.reset_index().rename(columns={'level_0':'feature_name','level_1':'feature_value'})\n",
    "df = df.groupby('feature_name')['IVi'].transform(np.sum)"
   ]
  },
  {
   "cell_type": "code",
   "execution_count": 1,
   "metadata": {},
   "outputs": [],
   "source": [
    "import pandas as pd"
   ]
  },
  {
   "cell_type": "code",
   "execution_count": null,
   "metadata": {},
   "outputs": [],
   "source": [
    "import pandas as pd\n",
    "import json\n",
    "path='./rank_res_v8/000000_0'\n",
    "df = pd.read_csv(path,sep='\\t',header=None,names=['name','value','coupon_list'],engine='python')\n",
    "df['key']=df.apply(lambda x: 'rank_'+x['name']+'_'+str(x['value']),axis=1)\n",
    "my_dict=df.set_index('key')['coupon_list'].to_dict()\n",
    "encode_json=json.dumps(my_dict)\n",
    "with open('res.json','w') as f:\n",
    "    f.write(encode_json)"
   ]
  },
  {
   "cell_type": "code",
   "execution_count": null,
   "metadata": {},
   "outputs": [],
   "source": [
    "import json\n",
    "with open(\"/Users/a123/Documents/cate_tb2sq.json\",'r') as load_f:\n",
    "    cate_map = json.load(load_f)"
   ]
  },
  {
   "cell_type": "code",
   "execution_count": null,
   "metadata": {},
   "outputs": [],
   "source": [
    "#字典转换成DataFrame\n",
    "my_dict = {'tom':17, 'jack':25,'lucy':20,'jane':22} \n",
    "\n",
    "df1=pd.DataFrame.from_dict(word_cnt,orient='index')\n",
    "df2 = pd.DataFrame(df1).reset_index().rename(columns={'index': 'word',0:'cnt'})\n",
    "df2.to_csv('word_count.csv',index=False)\n",
    "#DataFrame转换成字典\n",
    "my_dict2=df2.set_index('name')['age'].to_dict()"
   ]
  },
  {
   "cell_type": "code",
   "execution_count": 7,
   "metadata": {},
   "outputs": [],
   "source": [
    "df = pd.read_csv('000000_0',header=None,names=['price','cnt'],sep='\\t')"
   ]
  },
  {
   "cell_type": "code",
   "execution_count": null,
   "metadata": {},
   "outputs": [],
   "source": [
    "df['price'] = df['price'].map(lambda x: float(x.replace('￥','')))"
   ]
  },
  {
   "cell_type": "code",
   "execution_count": 8,
   "metadata": {
    "collapsed": true
   },
   "outputs": [
    {
     "ename": "NameError",
     "evalue": "name 'df' is not defined",
     "output_type": "error",
     "traceback": [
      "\u001b[0;31m--------------------------------------------------------------------\u001b[0m",
      "\u001b[0;31mNameError\u001b[0m                          Traceback (most recent call last)",
      "\u001b[0;32m<ipython-input-8-9ed0534d8425>\u001b[0m in \u001b[0;36m<module>\u001b[0;34m()\u001b[0m\n\u001b[0;32m----> 1\u001b[0;31m \u001b[0mdf\u001b[0m\u001b[0;34m[\u001b[0m\u001b[0;34m'range'\u001b[0m\u001b[0;34m]\u001b[0m \u001b[0;34m=\u001b[0m \u001b[0mpd\u001b[0m\u001b[0;34m.\u001b[0m\u001b[0mcut\u001b[0m\u001b[0;34m(\u001b[0m\u001b[0mdf\u001b[0m\u001b[0;34m[\u001b[0m\u001b[0;34m'price'\u001b[0m\u001b[0;34m]\u001b[0m\u001b[0;34m,\u001b[0m\u001b[0mprice_range\u001b[0m\u001b[0;34m,\u001b[0m\u001b[0mright\u001b[0m\u001b[0;34m=\u001b[0m\u001b[0;32mFalse\u001b[0m\u001b[0;34m,\u001b[0m\u001b[0minclude_lowest\u001b[0m\u001b[0;34m=\u001b[0m\u001b[0;32mTrue\u001b[0m\u001b[0;34m)\u001b[0m\u001b[0;34m\u001b[0m\u001b[0m\n\u001b[0m\u001b[1;32m      2\u001b[0m \u001b[0mdf\u001b[0m\u001b[0;34m[\u001b[0m\u001b[0;34m'range'\u001b[0m\u001b[0;34m]\u001b[0m\u001b[0;34m.\u001b[0m\u001b[0mvalue_counts\u001b[0m\u001b[0;34m(\u001b[0m\u001b[0;34m)\u001b[0m\u001b[0;34m\u001b[0m\u001b[0m\n",
      "\u001b[0;31mNameError\u001b[0m: name 'df' is not defined"
     ]
    }
   ],
   "source": [
    "import re\n",
    "s = \"abc${hello}casdf${world}\"\n",
    "re.findall(r\"[$][{](.*?)[}]\",s)\n",
    "\n",
    "d = {'hello':'1', 'world':'2'}\n",
    "\n",
    "for k,v in d.items():\n",
    "    origin = r\"${%s}\" % k\n",
    "    s = s.replace(origin,d.get(k))\n",
    "    print(s)"
   ]
  },
  {
   "cell_type": "code",
   "execution_count": null,
   "metadata": {},
   "outputs": [],
   "source": [
    "price_range = [0,0.001,0.01,1,100,1000,10000,100000,1000000,10000000,np.inf]\n",
    "df['range'] = pd.cut(df['price'],price_range,right=False,include_lowest=True)\n",
    "df.groupby('range')['cnt'].sum()"
   ]
  }
 ],
 "metadata": {
  "kernelspec": {
   "display_name": "Python 3",
   "language": "python",
   "name": "python3"
  },
  "language_info": {
   "codemirror_mode": {
    "name": "ipython",
    "version": 3
   },
   "file_extension": ".py",
   "mimetype": "text/x-python",
   "name": "python",
   "nbconvert_exporter": "python",
   "pygments_lexer": "ipython3",
   "version": "3.6.4"
  }
 },
 "nbformat": 4,
 "nbformat_minor": 2
}
