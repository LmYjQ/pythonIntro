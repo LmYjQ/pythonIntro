{
 "cells": [
  {
   "cell_type": "markdown",
   "metadata": {},
   "source": [
    "## 1. 为什么学习Python数据分析"
   ]
  },
  {
   "cell_type": "markdown",
   "metadata": {},
   "source": [
    "- 好学: 语法简单，调试/运行方便(jupyter notebook)\n",
    "- 好用: 数据分析，及相关领域（科学计算，数据挖掘，爬虫，机器学习……）都有可调用的包\n",
    "- 好查: 百度/stackoverflow"
   ]
  },
  {
   "cell_type": "markdown",
   "metadata": {},
   "source": [
    "## 2. Python环境安装\n",
    "循序渐进: 简单程序jupyter->复杂工程IDE->虚拟环境/docker...."
   ]
  },
  {
   "cell_type": "markdown",
   "metadata": {},
   "source": [
    "### 2.1 jupyter安装\n",
    "- 百度搜索 \"Anaconda\"，下载对应自己电脑版本的安装包，安装\n",
    "    - if Mac: 打开terminal，命令行中输入\"jupyter notebook\"，回车\n",
    "    - if Windows: ctrl+S搜索“Anaconda prompt”，输入\"jupyter notebook\"，回车\n",
    "- 关闭jupyter: 在命令行界面中ctrl+c"
   ]
  },
  {
   "cell_type": "markdown",
   "metadata": {},
   "source": [
    "### 2.2 IDE安装 \n",
    "- Pycharm，sublimeText，vscode\n",
    "\n",
    "#### 使用IDE的目的\n",
    "- 源代码查看\n",
    "- 代码跳转\n",
    "- 打断点调试\n",
    "- 辅助插件"
   ]
  },
  {
   "cell_type": "markdown",
   "metadata": {},
   "source": [
    "### 2.3 虚拟环境 \n",
    "- 依赖冲突\n",
    "- 部署效率"
   ]
  },
  {
   "cell_type": "markdown",
   "metadata": {},
   "source": [
    "## 3. 学习心得"
   ]
  },
  {
   "cell_type": "markdown",
   "metadata": {},
   "source": [
    "- jupyter notebook: 快速尝试，掌握新知识点\n",
    "- 工作/kaggle比赛: 通过实际应用积累经验，增强信心\n",
    "- google/stackoverflow: 学会总结自己的问题，选择关键词\n",
    "- 应用第一: api随用随查，不要背，不要一上来就扎进源码"
   ]
  },
  {
   "cell_type": "code",
   "execution_count": null,
   "metadata": {},
   "outputs": [],
   "source": []
  }
 ],
 "metadata": {
  "kernelspec": {
   "display_name": "Python 3",
   "language": "python",
   "name": "python3"
  },
  "language_info": {
   "codemirror_mode": {
    "name": "ipython",
    "version": 3
   },
   "file_extension": ".py",
   "mimetype": "text/x-python",
   "name": "python",
   "nbconvert_exporter": "python",
   "pygments_lexer": "ipython3",
   "version": "3.6.4"
  }
 },
 "nbformat": 4,
 "nbformat_minor": 2
}
